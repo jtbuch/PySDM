{
 "cells": [
  {
   "cell_type": "markdown",
   "metadata": {
    "pycharm": {
     "name": "#%% md\n"
    }
   },
   "source": [
    "# Parameter scan runs for 1D kinematic driver model\n",
    "\n",
    "Author: Jatan Buch (v1, 240501) || (v2, 241022)"
   ]
  },
  {
   "cell_type": "code",
   "execution_count": 1,
   "metadata": {
    "pycharm": {
     "name": "#%%\n"
    }
   },
   "outputs": [],
   "source": [
    "from case_files.settings_time import Settings \n",
    "from case_files.simulation_sd_update import Simulation\n",
    "import numpy as np\n",
    "import xarray\n",
    "from tqdm import tqdm\n",
    "\n",
    "import itertools\n",
    "import pandas as pd\n",
    "\n",
    "from PySDM import Formulae\n",
    "from PySDM.initialisation.spectra import Lognormal\n",
    "from PySDM.physics import si\n",
    "from PySDM.exporters import NetCDFExporter_1d\n",
    "\n",
    "import matplotlib.pyplot as plt\n",
    "import matplotlib.colors as colors\n",
    "from matplotlib.patches import Rectangle\n",
    "import matplotlib.patches as patches\n",
    "import matplotlib.path as mpltPath\n",
    "from utils.plot_params_mpl39 import params\n",
    "import matplotlib.pylab as pylab\n",
    "import seaborn as sns\n",
    "pylab.rcParams.update(params)\n",
    "cols_default = plt.rcParams['axes.prop_cycle'].by_key()['color']\n",
    "\n",
    "%matplotlib inline\n",
    "%config IPython.matplotlib.backend = 'retina'\n",
    "%config InlineBackend.figure_format = 'retina'\n",
    "\n",
    "sav_file_path= \"/Users/hyfives-lamont/Desktop/cloud_seeding/sav_files/parameter_scan_1D/\"\n",
    "sav_plt_path= \"/Users/hyfives-lamont/Desktop/cloud_seeding/plots/parameter_scan_1D/\""
   ]
  },
  {
   "cell_type": "markdown",
   "metadata": {},
   "source": [
    "## Case setup"
   ]
  },
  {
   "cell_type": "code",
   "execution_count": 2,
   "metadata": {},
   "outputs": [],
   "source": [
    "def KiD_run(param, bkg_size= 1E-1, seed_size= 1, z_part_seed= (0., 0.25), rho_times_w= 2, rindx= 0, n_runs= 10, rseed= 42):\n",
    "\n",
    "        norm_bkg, norm_seed = param\n",
    "\n",
    "        kappa_bkg= 0.3\n",
    "        kappa_seed= 0.85\n",
    "        \n",
    "        common_params = {\n",
    "        \"t_max\": 60 * si.minutes,\n",
    "        \"n_sd_per_mode\": (32, 32), \n",
    "        \"aerosol_modes_by_kappa\": {\n",
    "                kappa_bkg: Lognormal(\n",
    "                                norm_factor= norm_bkg / si.cm ** 3,\n",
    "                                m_mode= bkg_size * si.um,\n",
    "                                s_geom=1.4\n",
    "                        ),\n",
    "                kappa_seed: Lognormal(\n",
    "                                norm_factor= norm_seed / si.cm ** 3,\n",
    "                                m_mode= seed_size * si.um,\n",
    "                                s_geom= 1.2\n",
    "                        )\n",
    "                },\n",
    "        \"dt\": 5 * si.s,\n",
    "        \"dz\": 50 * si.m,\n",
    "        \"p0\": 990 * si.hPa,\n",
    "        \"z_part\": ((0., 1.), z_part_seed),\n",
    "        \"r_seed\": 1 * si.um,\n",
    "        \"kappa_seed\": 0.85,\n",
    "        \"int_inj_rate\": 10 / si.cm ** 3,\n",
    "        \"seed_z_step\": [],\n",
    "        \"seed_t_step\": [],\n",
    "        }\n",
    "\n",
    "        output = {}\n",
    "        settings = {}\n",
    "        simulation = {}\n",
    "        rain_xarr = {}\n",
    "\n",
    "        np.random.seed(rseed)\n",
    "\n",
    "        for r_id in range(n_runs):\n",
    "                key = f\"param_list_{rindx}_run={r_id}\"\n",
    "                settings[key] = Settings(\n",
    "                        **common_params,\n",
    "                        formulae= Formulae(seed= np.random.randint(1000)),\n",
    "                        rho_times_w_1=rho_times_w * si.kg/si.m**3 * si.m/si.s,\n",
    "                        precip= True\n",
    "                        )\n",
    "                simulation[key] = Simulation(settings[key])\n",
    "                output[key] = simulation[key].run().products\n",
    "                \n",
    "                rain_xarr[key]= xarray.DataArray(data= output[key]['rain water mixing ratio'],\n",
    "                                dims=[\"z\", \"t\"],\n",
    "                                coords=dict(\n",
    "                                        t=([\"t\"], output[key]['t'],),\n",
    "                                        z=([\"z\"], output[key]['z'],),)\n",
    "                                )\n",
    "\n",
    "        surface_rain= xarray.concat([rain_xarr[f\"param_list_{rindx}\" + \"_run=\" + str(i)] for i in range(n_runs)], dim=\"run\")\n",
    "        surface_rain= surface_rain.assign_coords(run=range(n_runs))\n",
    "\n",
    "        return surface_rain"
   ]
  },
  {
   "cell_type": "code",
   "execution_count": 6,
   "metadata": {},
   "outputs": [],
   "source": [
    "norm_bkg= np.logspace(1, np.log10(500), 2)\n",
    "norm_seed= np.logspace(0, np.log10(500), 2)\n",
    "#z_part_seed= ((0., 0.25), (0.25, 0.50), (0.5, 0.75) , (0.75, 1.))\n",
    "\n",
    "param_list= list(itertools.product(norm_bkg, norm_seed))\n",
    "kid_run_df= pd.DataFrame(param_list, columns= ['norm_bkg', 'norm_seed'])"
   ]
  },
  {
   "cell_type": "code",
   "execution_count": 7,
   "metadata": {},
   "outputs": [
    {
     "name": "stderr",
     "output_type": "stream",
     "text": [
      "  0%|          | 0/1 [00:00<?, ?it/s]/Users/hyfives-lamont/Desktop/cloud_seeding/PySDM/PySDM/backends/numba.py:46: UserWarning: Disabling Numba threading due to ARM64 CPU (atomics do not work yet)\n",
      "  warnings.warn(\n",
      "<__array_function__ internals>:200: RuntimeWarning: invalid value encountered in cast\n",
      "/Users/hyfives-lamont/Desktop/cloud_seeding/PySDM/PySDM/backends/numba.py:46: UserWarning: Disabling Numba threading due to ARM64 CPU (atomics do not work yet)\n",
      "  warnings.warn(\n",
      "<__array_function__ internals>:200: RuntimeWarning: invalid value encountered in cast\n",
      "/Users/hyfives-lamont/Desktop/cloud_seeding/PySDM/PySDM/backends/numba.py:46: UserWarning: Disabling Numba threading due to ARM64 CPU (atomics do not work yet)\n",
      "  warnings.warn(\n",
      "<__array_function__ internals>:200: RuntimeWarning: invalid value encountered in cast\n",
      "/Users/hyfives-lamont/Desktop/cloud_seeding/PySDM/PySDM/backends/numba.py:46: UserWarning: Disabling Numba threading due to ARM64 CPU (atomics do not work yet)\n",
      "  warnings.warn(\n",
      "<__array_function__ internals>:200: RuntimeWarning: invalid value encountered in cast\n",
      "/Users/hyfives-lamont/Desktop/cloud_seeding/PySDM/PySDM/backends/numba.py:46: UserWarning: Disabling Numba threading due to ARM64 CPU (atomics do not work yet)\n",
      "  warnings.warn(\n",
      "<__array_function__ internals>:200: RuntimeWarning: invalid value encountered in cast\n",
      "/Users/hyfives-lamont/Desktop/cloud_seeding/PySDM/PySDM/backends/numba.py:46: UserWarning: Disabling Numba threading due to ARM64 CPU (atomics do not work yet)\n",
      "  warnings.warn(\n",
      "<__array_function__ internals>:200: RuntimeWarning: invalid value encountered in cast\n",
      "/Users/hyfives-lamont/Desktop/cloud_seeding/PySDM/PySDM/backends/numba.py:46: UserWarning: Disabling Numba threading due to ARM64 CPU (atomics do not work yet)\n",
      "  warnings.warn(\n",
      "<__array_function__ internals>:200: RuntimeWarning: invalid value encountered in cast\n",
      "/Users/hyfives-lamont/Desktop/cloud_seeding/PySDM/PySDM/backends/numba.py:46: UserWarning: Disabling Numba threading due to ARM64 CPU (atomics do not work yet)\n",
      "  warnings.warn(\n",
      "<__array_function__ internals>:200: RuntimeWarning: invalid value encountered in cast\n",
      "/Users/hyfives-lamont/Desktop/cloud_seeding/PySDM/PySDM/backends/numba.py:46: UserWarning: Disabling Numba threading due to ARM64 CPU (atomics do not work yet)\n",
      "  warnings.warn(\n",
      "<__array_function__ internals>:200: RuntimeWarning: invalid value encountered in cast\n",
      "/Users/hyfives-lamont/Desktop/cloud_seeding/PySDM/PySDM/backends/numba.py:46: UserWarning: Disabling Numba threading due to ARM64 CPU (atomics do not work yet)\n",
      "  warnings.warn(\n",
      "<__array_function__ internals>:200: RuntimeWarning: invalid value encountered in cast\n",
      "/Users/hyfives-lamont/Desktop/cloud_seeding/PySDM/PySDM/backends/numba.py:46: UserWarning: Disabling Numba threading due to ARM64 CPU (atomics do not work yet)\n",
      "  warnings.warn(\n",
      "<__array_function__ internals>:200: RuntimeWarning: invalid value encountered in cast\n",
      "/Users/hyfives-lamont/Desktop/cloud_seeding/PySDM/PySDM/backends/numba.py:46: UserWarning: Disabling Numba threading due to ARM64 CPU (atomics do not work yet)\n",
      "  warnings.warn(\n",
      "<__array_function__ internals>:200: RuntimeWarning: invalid value encountered in cast\n",
      "/Users/hyfives-lamont/Desktop/cloud_seeding/PySDM/PySDM/backends/numba.py:46: UserWarning: Disabling Numba threading due to ARM64 CPU (atomics do not work yet)\n",
      "  warnings.warn(\n",
      "<__array_function__ internals>:200: RuntimeWarning: invalid value encountered in cast\n",
      "/Users/hyfives-lamont/Desktop/cloud_seeding/PySDM/PySDM/backends/numba.py:46: UserWarning: Disabling Numba threading due to ARM64 CPU (atomics do not work yet)\n",
      "  warnings.warn(\n",
      "<__array_function__ internals>:200: RuntimeWarning: invalid value encountered in cast\n",
      "/Users/hyfives-lamont/Desktop/cloud_seeding/PySDM/PySDM/backends/numba.py:46: UserWarning: Disabling Numba threading due to ARM64 CPU (atomics do not work yet)\n",
      "  warnings.warn(\n",
      "<__array_function__ internals>:200: RuntimeWarning: invalid value encountered in cast\n",
      "/Users/hyfives-lamont/Desktop/cloud_seeding/PySDM/PySDM/backends/numba.py:46: UserWarning: Disabling Numba threading due to ARM64 CPU (atomics do not work yet)\n",
      "  warnings.warn(\n",
      "<__array_function__ internals>:200: RuntimeWarning: invalid value encountered in cast\n",
      "/Users/hyfives-lamont/Desktop/cloud_seeding/PySDM/PySDM/backends/numba.py:46: UserWarning: Disabling Numba threading due to ARM64 CPU (atomics do not work yet)\n",
      "  warnings.warn(\n",
      "<__array_function__ internals>:200: RuntimeWarning: invalid value encountered in cast\n",
      "/Users/hyfives-lamont/Desktop/cloud_seeding/PySDM/PySDM/backends/numba.py:46: UserWarning: Disabling Numba threading due to ARM64 CPU (atomics do not work yet)\n",
      "  warnings.warn(\n",
      "<__array_function__ internals>:200: RuntimeWarning: invalid value encountered in cast\n",
      "/Users/hyfives-lamont/Desktop/cloud_seeding/PySDM/PySDM/backends/numba.py:46: UserWarning: Disabling Numba threading due to ARM64 CPU (atomics do not work yet)\n",
      "  warnings.warn(\n",
      "<__array_function__ internals>:200: RuntimeWarning: invalid value encountered in cast\n",
      "/Users/hyfives-lamont/Desktop/cloud_seeding/PySDM/PySDM/backends/numba.py:46: UserWarning: Disabling Numba threading due to ARM64 CPU (atomics do not work yet)\n",
      "  warnings.warn(\n",
      "<__array_function__ internals>:200: RuntimeWarning: invalid value encountered in cast\n",
      "100%|██████████| 1/1 [03:59<00:00, 239.18s/it]\n",
      "/var/folders/s1/9vttm2bd2074z9_lf1r86fkm0000gn/T/ipykernel_14018/1091191890.py:28: PerformanceWarning: \n",
      "your performance may suffer as PyTables will pickle object types that it cannot\n",
      "map directly to c-types [inferred_type->mixed,key->block2_values] [items->Index(['z_part_seed'], dtype='object')]\n",
      "\n",
      "  kid_run_df.to_hdf(sav_file_path + 'KiD_run_summary.h5', key='df')\n"
     ]
    }
   ],
   "source": [
    "bkg_size= 1E-1 # in si.um\n",
    "seed_size= 1 # in si.um\n",
    "z_part_seed= (0., 0.25)\n",
    "rho_times_w= 2 # in si.kg/si.m**3 * si.m/si.s\n",
    "\n",
    "mean_surf_prec_arr= []\n",
    "sig_surf_prec_arr= []\n",
    "\n",
    "for i in tqdm(range(len(param_list))): \n",
    "    try:\n",
    "        surface_rain= KiD_run(param= param_list[i], bkg_size= bkg_size, seed_size= seed_size, z_part_seed= z_part_seed, rho_times_w= rho_times_w, rindx=i, n_runs= 20, rseed= 24)\n",
    "        surface_rain.to_netcdf(sav_file_path + f'KiD_run_{i+1}.nc') # saving the netcdf file\n",
    "        \n",
    "        mean_surf_prec_arr.append(surface_rain.sel(z= 25).sum(dim= 't').mean(dim= 'run').values.item())\n",
    "        sig_surf_prec_arr.append(surface_rain.sel(z= 25).sum(dim= 't').std(dim= 'run').values)\n",
    "    except:\n",
    "        mean_surf_prec_arr.append(np.nan)\n",
    "        sig_surf_prec_arr.append(np.nan)\n",
    "\n",
    "# add columns to kid_run_df for bkg_size, seed_size, z_part_seed, rho_times_w which are the same for all runs\n",
    "kid_run_df['bkg_size']= bkg_size \n",
    "kid_run_df['seed_size']= seed_size \n",
    "kid_run_df['z_part_seed']= [(0., 0.25)] * len(param_list)\n",
    "kid_run_df['rho_times_w']= 2 \n",
    "\n",
    "kid_run_df['surf_precip_mean']= np.array(mean_surf_prec_arr)\n",
    "kid_run_df['surf_precip_std']= np.array(sig_surf_prec_arr)\n",
    "kid_run_df.to_hdf(sav_file_path + 'KiD_run_summary.h5', key='df')"
   ]
  },
  {
   "cell_type": "code",
   "execution_count": 8,
   "metadata": {},
   "outputs": [
    {
     "data": {
      "text/html": [
       "<div>\n",
       "<style scoped>\n",
       "    .dataframe tbody tr th:only-of-type {\n",
       "        vertical-align: middle;\n",
       "    }\n",
       "\n",
       "    .dataframe tbody tr th {\n",
       "        vertical-align: top;\n",
       "    }\n",
       "\n",
       "    .dataframe thead th {\n",
       "        text-align: right;\n",
       "    }\n",
       "</style>\n",
       "<table border=\"1\" class=\"dataframe\">\n",
       "  <thead>\n",
       "    <tr style=\"text-align: right;\">\n",
       "      <th></th>\n",
       "      <th>norm_bkg</th>\n",
       "      <th>norm_seed</th>\n",
       "      <th>bkg_size</th>\n",
       "      <th>seed_size</th>\n",
       "      <th>z_part_seed</th>\n",
       "      <th>rho_times_w</th>\n",
       "      <th>surf_precip_mean</th>\n",
       "      <th>surf_precip_std</th>\n",
       "    </tr>\n",
       "  </thead>\n",
       "  <tbody>\n",
       "    <tr>\n",
       "      <th>0</th>\n",
       "      <td>500</td>\n",
       "      <td>500</td>\n",
       "      <td>0.1</td>\n",
       "      <td>1</td>\n",
       "      <td>(0.0, 0.25)</td>\n",
       "      <td>2</td>\n",
       "      <td>80.618889</td>\n",
       "      <td>6.763869</td>\n",
       "    </tr>\n",
       "  </tbody>\n",
       "</table>\n",
       "</div>"
      ],
      "text/plain": [
       "   norm_bkg  norm_seed  bkg_size  seed_size  z_part_seed  rho_times_w  \\\n",
       "0       500        500       0.1          1  (0.0, 0.25)            2   \n",
       "\n",
       "   surf_precip_mean  surf_precip_std  \n",
       "0         80.618889         6.763869  "
      ]
     },
     "execution_count": 8,
     "metadata": {},
     "output_type": "execute_result"
    }
   ],
   "source": [
    "kid_run_df"
   ]
  },
  {
   "cell_type": "code",
   "execution_count": 5,
   "metadata": {},
   "outputs": [
    {
     "data": {
      "text/html": [
       "<div>\n",
       "<style scoped>\n",
       "    .dataframe tbody tr th:only-of-type {\n",
       "        vertical-align: middle;\n",
       "    }\n",
       "\n",
       "    .dataframe tbody tr th {\n",
       "        vertical-align: top;\n",
       "    }\n",
       "\n",
       "    .dataframe thead th {\n",
       "        text-align: right;\n",
       "    }\n",
       "</style>\n",
       "<table border=\"1\" class=\"dataframe\">\n",
       "  <thead>\n",
       "    <tr style=\"text-align: right;\">\n",
       "      <th></th>\n",
       "      <th>norm_bkg</th>\n",
       "      <th>norm_seed</th>\n",
       "      <th>bkg_size</th>\n",
       "      <th>seed_size</th>\n",
       "      <th>z_part_seed</th>\n",
       "      <th>rho_times_w</th>\n",
       "      <th>surf_precip_mean</th>\n",
       "      <th>surf_precip_std</th>\n",
       "    </tr>\n",
       "  </thead>\n",
       "  <tbody>\n",
       "    <tr>\n",
       "      <th>0</th>\n",
       "      <td>50</td>\n",
       "      <td>50</td>\n",
       "      <td>0.1</td>\n",
       "      <td>1</td>\n",
       "      <td>(0.0, 0.25)</td>\n",
       "      <td>2</td>\n",
       "      <td>81.841008</td>\n",
       "      <td>4.644914</td>\n",
       "    </tr>\n",
       "    <tr>\n",
       "      <th>1</th>\n",
       "      <td>50</td>\n",
       "      <td>100</td>\n",
       "      <td>0.1</td>\n",
       "      <td>1</td>\n",
       "      <td>(0.0, 0.25)</td>\n",
       "      <td>2</td>\n",
       "      <td>84.117031</td>\n",
       "      <td>5.035425</td>\n",
       "    </tr>\n",
       "    <tr>\n",
       "      <th>2</th>\n",
       "      <td>500</td>\n",
       "      <td>50</td>\n",
       "      <td>0.1</td>\n",
       "      <td>1</td>\n",
       "      <td>(0.0, 0.25)</td>\n",
       "      <td>2</td>\n",
       "      <td>71.940444</td>\n",
       "      <td>5.929346</td>\n",
       "    </tr>\n",
       "    <tr>\n",
       "      <th>3</th>\n",
       "      <td>500</td>\n",
       "      <td>100</td>\n",
       "      <td>0.1</td>\n",
       "      <td>1</td>\n",
       "      <td>(0.0, 0.25)</td>\n",
       "      <td>2</td>\n",
       "      <td>75.910527</td>\n",
       "      <td>6.392123</td>\n",
       "    </tr>\n",
       "  </tbody>\n",
       "</table>\n",
       "</div>"
      ],
      "text/plain": [
       "   norm_bkg  norm_seed  bkg_size  seed_size  z_part_seed  rho_times_w  \\\n",
       "0        50         50       0.1          1  (0.0, 0.25)            2   \n",
       "1        50        100       0.1          1  (0.0, 0.25)            2   \n",
       "2       500         50       0.1          1  (0.0, 0.25)            2   \n",
       "3       500        100       0.1          1  (0.0, 0.25)            2   \n",
       "\n",
       "   surf_precip_mean  surf_precip_std  \n",
       "0         81.841008         4.644914  \n",
       "1         84.117031         5.035425  \n",
       "2         71.940444         5.929346  \n",
       "3         75.910527         6.392123  "
      ]
     },
     "execution_count": 5,
     "metadata": {},
     "output_type": "execute_result"
    }
   ],
   "source": [
    "kid_run_df"
   ]
  },
  {
   "cell_type": "code",
   "execution_count": 24,
   "metadata": {},
   "outputs": [
    {
     "data": {
      "text/plain": [
       "[<matplotlib.lines.Line2D at 0x3197907f0>]"
      ]
     },
     "execution_count": 24,
     "metadata": {},
     "output_type": "execute_result"
    },
    {
     "data": {
      "image/png": "[encoded data removed]",
      "text/plain": [
       "<Figure size 576x432 with 1 Axes>"
      ]
     },
     "metadata": {
      "image/png": {
       "height": 408,
       "width": 487
      },
      "needs_background": "light"
     },
     "output_type": "display_data"
    }
   ],
   "source": [
    "fig, ax= plt.subplots(1, 1, figsize=(8, 6))\n",
    "surface_rain.mean(dim= \"run\").sel(z= 25).plot(ax= ax)"
   ]
  },
  {
   "cell_type": "code",
   "execution_count": 15,
   "metadata": {},
   "outputs": [
    {
     "data": {
      "text/plain": [
       "32.0"
      ]
     },
     "execution_count": 15,
     "metadata": {},
     "output_type": "execute_result"
    }
   ],
   "source": [
    "(960 * 120)/3600"
   ]
  }
 ],
 "metadata": {
  "kernelspec": {
   "display_name": "base",
   "language": "python",
   "name": "python3"
  },
  "language_info": {
   "codemirror_mode": {
    "name": "ipython",
    "version": 3
   },
   "file_extension": ".py",
   "mimetype": "text/x-python",
   "name": "python",
   "nbconvert_exporter": "python",
   "pygments_lexer": "ipython3",
   "version": "3.9.13"
  }
 },
 "nbformat": 4,
 "nbformat_minor": 1
}
