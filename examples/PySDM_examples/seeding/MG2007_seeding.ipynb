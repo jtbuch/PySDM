{
 "cells": [
  {
   "cell_type": "markdown",
   "metadata": {
    "pycharm": {
     "name": "#%% md\n"
    }
   },
   "source": [
    "## Seeding dynamic for a 2D kinematic driver\n",
    "\n",
    "#### based on the stratocumulus stream function from Morrison & Grabowski 2007 and setup from Arabas et al. 2015\n",
    "https://doi.org/10.1175/JAS3980\n",
    "\n",
    "(see the Arabas et al. 2015 example in PySDM for more details)"
   ]
  },
  {
   "cell_type": "code",
   "execution_count": 1,
   "metadata": {
    "ExecuteTime": {
     "end_time": "2023-12-29T15:12:04.969183Z",
     "start_time": "2023-12-29T15:12:03.369050Z"
    },
    "pycharm": {
     "name": "#%%\n"
    }
   },
   "outputs": [],
   "source": [
    "import numpy as np\n",
    "import xarray\n",
    "from tqdm import tqdm\n",
    "\n",
    "from PySDM import Formulae\n",
    "from PySDM.physics import in_unit, si\n",
    "from PySDM_examples.seeding.settings_2d import Settings\n",
    "from PySDM_examples.seeding.simulation_2d import Simulation\n",
    "from PySDM_examples.Szumowski_et_al_1998 import Storage\n",
    "from PySDM_examples.seeding.spin_up_2d import SpinUp\n",
    "\n",
    "import matplotlib.pyplot as plt\n",
    "from matplotlib import pyplot\n",
    "from PySDM_examples.Shipway_and_Hill_2012 import plot\n",
    "from open_atmos_jupyter_utils import show_plot"
   ]
  },
  {
   "cell_type": "code",
   "execution_count": 2,
   "metadata": {
    "ExecuteTime": {
     "end_time": "2023-12-29T15:13:57.683736Z",
     "start_time": "2023-12-29T15:12:04.972230Z"
    },
    "pycharm": {
     "name": "#%%\n"
    }
   },
   "outputs": [
    {
     "name": "stderr",
     "output_type": "stream",
     "text": [
      "/Users/hyfives-lamont/Desktop/cloud_seeding/PySDM/PySDM/backends/numba.py:48: UserWarning: Disabling Numba threading due to ARM64 CPU (atomics do not work yet)\n",
      "  warnings.warn(\n"
     ]
    },
    {
     "name": "stdout",
     "output_type": "stream",
     "text": [
      "0.0% (times since last print: cpu=11.3s wall=11.5s)\n"
     ]
    },
    {
     "name": "stderr",
     "output_type": "stream",
     "text": [
      "OMP: Info #276: omp_set_nested routine deprecated, please use omp_set_max_active_levels instead.\n"
     ]
    },
    {
     "name": "stdout",
     "output_type": "stream",
     "text": [
      "1.1% (times since last print: cpu=30.9s wall=31.1s)\n",
      "2.2% (times since last print: cpu=0.5s wall=0.5s)\n",
      "3.3% (times since last print: cpu=0.5s wall=0.5s)\n",
      "4.4% (times since last print: cpu=0.5s wall=0.5s)\n",
      "5.6% (times since last print: cpu=0.5s wall=0.5s)\n",
      "6.7% (times since last print: cpu=0.5s wall=0.5s)\n",
      "7.8% (times since last print: cpu=0.5s wall=0.5s)\n",
      "8.9% (times since last print: cpu=0.5s wall=0.5s)\n",
      "10.0% (times since last print: cpu=0.5s wall=0.5s)\n",
      "11.1% (times since last print: cpu=0.5s wall=0.5s)\n",
      "12.2% (times since last print: cpu=0.5s wall=0.5s)\n",
      "13.3% (times since last print: cpu=0.5s wall=0.5s)\n",
      "14.4% (times since last print: cpu=0.5s wall=0.5s)\n",
      "15.6% (times since last print: cpu=0.6s wall=0.6s)\n",
      "16.7% (times since last print: cpu=0.6s wall=0.6s)\n",
      "17.8% (times since last print: cpu=0.6s wall=0.6s)\n",
      "18.9% (times since last print: cpu=0.6s wall=0.6s)\n",
      "20.0% (times since last print: cpu=0.6s wall=0.6s)\n",
      "21.1% (times since last print: cpu=0.6s wall=0.6s)\n",
      "22.2% (times since last print: cpu=0.6s wall=0.6s)\n",
      "23.3% (times since last print: cpu=0.6s wall=0.6s)\n",
      "24.4% (times since last print: cpu=0.6s wall=0.6s)\n",
      "25.6% (times since last print: cpu=0.6s wall=0.6s)\n",
      "26.7% (times since last print: cpu=0.6s wall=0.6s)\n",
      "27.8% (times since last print: cpu=0.6s wall=0.6s)\n",
      "28.9% (times since last print: cpu=0.6s wall=0.6s)\n",
      "30.0% (times since last print: cpu=0.6s wall=0.6s)\n",
      "31.1% (times since last print: cpu=0.6s wall=0.6s)\n",
      "32.2% (times since last print: cpu=0.6s wall=0.6s)\n",
      "33.3% (times since last print: cpu=0.6s wall=0.6s)\n",
      "34.4% (times since last print: cpu=2.0s wall=2.0s)\n",
      "35.6% (times since last print: cpu=0.6s wall=0.6s)\n",
      "36.7% (times since last print: cpu=0.7s wall=0.7s)\n",
      "37.8% (times since last print: cpu=0.6s wall=0.6s)\n",
      "38.9% (times since last print: cpu=0.6s wall=0.6s)\n",
      "40.0% (times since last print: cpu=0.6s wall=0.6s)\n",
      "41.1% (times since last print: cpu=0.6s wall=0.6s)\n",
      "42.2% (times since last print: cpu=0.6s wall=0.6s)\n",
      "43.3% (times since last print: cpu=0.6s wall=0.6s)\n",
      "44.4% (times since last print: cpu=0.6s wall=0.6s)\n",
      "45.6% (times since last print: cpu=0.7s wall=0.7s)\n",
      "46.7% (times since last print: cpu=0.7s wall=0.7s)\n",
      "47.8% (times since last print: cpu=0.7s wall=0.7s)\n",
      "48.9% (times since last print: cpu=0.7s wall=0.7s)\n",
      "50.0% (times since last print: cpu=0.7s wall=0.7s)\n",
      "51.1% (times since last print: cpu=0.7s wall=0.7s)\n",
      "52.2% (times since last print: cpu=0.7s wall=0.7s)\n",
      "53.3% (times since last print: cpu=0.7s wall=0.7s)\n",
      "54.4% (times since last print: cpu=0.7s wall=0.7s)\n",
      "55.6% (times since last print: cpu=0.7s wall=0.7s)\n",
      "56.7% (times since last print: cpu=0.7s wall=0.7s)\n",
      "57.8% (times since last print: cpu=0.7s wall=0.7s)\n",
      "58.9% (times since last print: cpu=0.7s wall=0.7s)\n",
      "60.0% (times since last print: cpu=0.7s wall=0.7s)\n",
      "61.1% (times since last print: cpu=0.7s wall=0.7s)\n",
      "62.2% (times since last print: cpu=0.7s wall=0.7s)\n",
      "63.3% (times since last print: cpu=0.7s wall=0.7s)\n",
      "64.4% (times since last print: cpu=0.7s wall=0.7s)\n",
      "65.6% (times since last print: cpu=0.7s wall=0.7s)\n",
      "66.7% (times since last print: cpu=0.7s wall=0.7s)\n",
      "67.8% (times since last print: cpu=0.7s wall=0.7s)\n",
      "68.9% (times since last print: cpu=0.7s wall=0.7s)\n",
      "70.0% (times since last print: cpu=0.8s wall=0.8s)\n",
      "71.1% (times since last print: cpu=0.8s wall=0.8s)\n",
      "72.2% (times since last print: cpu=0.8s wall=0.8s)\n",
      "73.3% (times since last print: cpu=0.8s wall=0.8s)\n",
      "74.4% (times since last print: cpu=0.8s wall=0.8s)\n",
      "75.6% (times since last print: cpu=0.8s wall=0.8s)\n",
      "76.7% (times since last print: cpu=0.8s wall=0.8s)\n",
      "77.8% (times since last print: cpu=0.8s wall=0.8s)\n",
      "78.9% (times since last print: cpu=0.8s wall=0.8s)\n",
      "80.0% (times since last print: cpu=0.8s wall=0.8s)\n",
      "81.1% (times since last print: cpu=0.8s wall=0.8s)\n",
      "82.2% (times since last print: cpu=0.8s wall=0.8s)\n",
      "83.3% (times since last print: cpu=0.8s wall=0.8s)\n",
      "84.4% (times since last print: cpu=0.8s wall=0.8s)\n",
      "85.6% (times since last print: cpu=0.8s wall=0.8s)\n",
      "86.7% (times since last print: cpu=0.8s wall=0.8s)\n",
      "87.8% (times since last print: cpu=0.8s wall=0.8s)\n",
      "88.9% (times since last print: cpu=0.8s wall=0.8s)\n",
      "90.0% (times since last print: cpu=0.8s wall=0.8s)\n",
      "91.1% (times since last print: cpu=0.8s wall=0.8s)\n",
      "92.2% (times since last print: cpu=0.8s wall=0.8s)\n",
      "93.3% (times since last print: cpu=0.8s wall=0.8s)\n",
      "94.4% (times since last print: cpu=0.8s wall=0.8s)\n",
      "95.6% (times since last print: cpu=0.8s wall=0.8s)\n",
      "96.7% (times since last print: cpu=0.8s wall=0.8s)\n",
      "97.8% (times since last print: cpu=0.8s wall=0.8s)\n",
      "98.9% (times since last print: cpu=0.8s wall=0.8s)\n",
      "100.0% (times since last print: cpu=0.8s wall=0.8s)\n"
     ]
    }
   ],
   "source": [
    "np.random.seed(123)\n",
    "\n",
    "common_params = {\n",
    "    \"grid\": (25, 25),\n",
    "    \"size\": (1500 * si.metres, 1500 * si.metres),\n",
    "    \"simulation_time\": 5400 * si.second,\n",
    "    \"dt\": 5 * si.second,\n",
    "    \"spin_up_time\": 1800 * si.second,\n",
    "    \"particles_per_volume_STP\": 50 / si.cm**3,\n",
    "    \"n_sd_per_gridbox\": 32,\n",
    "    \"radius\": 0.04 * si.micrometre,\n",
    "    \"kappa\": .3,\n",
    "    \"z_part\": (0., 1),\n",
    "    \"x_part\": (0., 1),\n",
    "}\n",
    "\n",
    "settings = Settings(\n",
    "    Formulae(seed= np.random.randint(1000)),\n",
    "    **common_params,\n",
    "    )\n",
    "\n",
    "storage = Storage()\n",
    "simulation = Simulation(settings, storage, SpinUp= SpinUp)\n",
    "simulation.reinit()\n",
    "simulation.run()"
   ]
  },
  {
   "cell_type": "code",
   "execution_count": 3,
   "metadata": {},
   "outputs": [],
   "source": [
    "rain_arr= []\n",
    "for i in settings.output_steps:\n",
    "    rain_arr.append(storage.load('rain water mixing ratio', i))\n",
    "\n",
    "t_arr= np.array([            0,   60000000000,  120000000000,  180000000000,\n",
    "    240000000000,  300000000000,  360000000000,  420000000000,\n",
    "    480000000000,  540000000000,  600000000000,  660000000000,\n",
    "    720000000000,  780000000000,  840000000000,  900000000000,\n",
    "    960000000000, 1020000000000, 1080000000000, 1140000000000,\n",
    "    1200000000000, 1260000000000, 1320000000000, 1380000000000,\n",
    "    1440000000000, 1500000000000, 1560000000000, 1620000000000,\n",
    "    1680000000000, 1740000000000, 1800000000000, 1860000000000,\n",
    "    1920000000000, 1980000000000, 2040000000000, 2100000000000,\n",
    "    2160000000000, 2220000000000, 2280000000000, 2340000000000,\n",
    "    2400000000000, 2460000000000, 2520000000000, 2580000000000,\n",
    "    2640000000000, 2700000000000, 2760000000000, 2820000000000,\n",
    "    2880000000000, 2940000000000, 3000000000000, 3060000000000,\n",
    "    3120000000000, 3180000000000, 3240000000000, 3300000000000,\n",
    "    3360000000000, 3420000000000, 3480000000000, 3540000000000,\n",
    "    3600000000000, 3660000000000, 3720000000000, 3780000000000,\n",
    "    3840000000000, 3900000000000, 3960000000000, 4020000000000,\n",
    "    4080000000000, 4140000000000, 4200000000000, 4260000000000,\n",
    "    4320000000000, 4380000000000, 4440000000000, 4500000000000,\n",
    "    4560000000000, 4620000000000, 4680000000000, 4740000000000,\n",
    "    4800000000000, 4860000000000, 4920000000000, 4980000000000,\n",
    "    5040000000000, 5100000000000, 5160000000000, 5220000000000,\n",
    "    5280000000000, 5340000000000, 5400000000000], dtype='timedelta64[ns]')\n",
    "z_arr= np.array([  30.,   90.,  150.,  210.,  270.,  330.,  390.,  450.,  510.,  570.,\n",
    "    630.,  690.,  750.,  810.,  870.,  930.,  990., 1050., 1110., 1170.,\n",
    "    1230., 1290., 1350., 1410., 1470.], dtype= np.float32)\n",
    "x_arr= np.array([  30.,   90.,  150.,  210.,  270.,  330.,  390.,  450.,  510.,  570.,\n",
    "    630.,  690.,  750.,  810.,  870.,  930.,  990., 1050., 1110., 1170.,\n",
    "    1230., 1290., 1350., 1410., 1470.], dtype= np.float32)\n",
    "\n",
    "rain_xarr= xarray.DataArray(data= np.array(rain_arr), \\\n",
    "                        dims=[\"T\", \"X\", \"Z\"],\n",
    "                        coords=dict(\n",
    "                            T= ([\"T\"], t_arr,),\n",
    "                            X= ([\"X\"], x_arr,),\n",
    "                            Z= ([\"Z\"], z_arr,),)\n",
    "                        )"
   ]
  },
  {
   "cell_type": "code",
   "execution_count": 4,
   "metadata": {},
   "outputs": [
    {
     "data": {
      "text/plain": [
       "[<matplotlib.lines.Line2D at 0x30d6fd4b0>]"
      ]
     },
     "execution_count": 4,
     "metadata": {},
     "output_type": "execute_result"
    },
    {
     "data": {
      "image/png": "[encoded data removed]",
      "text/plain": [
       "<Figure size 640x480 with 1 Axes>"
      ]
     },
     "metadata": {},
     "output_type": "display_data"
    }
   ],
   "source": [
    "rain_xarr.sel(Z= 30).sum(dim= 'X').plot()"
   ]
  },
  {
   "cell_type": "markdown",
   "metadata": {},
   "source": []
  }
 ],
 "metadata": {
  "kernelspec": {
   "display_name": "Python 3",
   "language": "python",
   "name": "python3"
  },
  "language_info": {
   "codemirror_mode": {
    "name": "ipython",
    "version": 3
   },
   "file_extension": ".py",
   "mimetype": "text/x-python",
   "name": "python",
   "nbconvert_exporter": "python",
   "pygments_lexer": "ipython3",
   "version": "3.10.2"
  }
 },
 "nbformat": 4,
 "nbformat_minor": 4
}
